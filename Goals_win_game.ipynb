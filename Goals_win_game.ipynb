{
 "cells": [
  {
   "cell_type": "code",
   "execution_count": 2,
   "id": "1656443d",
   "metadata": {},
   "outputs": [],
   "source": [
    "import pandas as pd\n",
    "import matplotlib.pyplot as plt\n",
    "import seaborn as sns\n",
    "from sklearn.linear_model import LogisticRegression\n",
    "import numpy as np"
   ]
  },
  {
   "cell_type": "markdown",
   "id": "9ea5923f",
   "metadata": {},
   "source": [
    "## Step 1 - load in data"
   ]
  },
  {
   "cell_type": "code",
   "execution_count": 3,
   "id": "c5bc3c98",
   "metadata": {},
   "outputs": [],
   "source": [
    "df = pd.read_csv('Clean_Model_Ready.csv') #this data came from Kaggle - https://www.kaggle.com/datasets/omikumarmakadia2121/football-match-winners\n",
    "                                          #note this dataset contains data from 2020 onwards"
   ]
  },
  {
   "cell_type": "code",
   "execution_count": 4,
   "id": "cfa2936b",
   "metadata": {},
   "outputs": [
    {
     "data": {
      "text/html": [
       "<div>\n",
       "<style scoped>\n",
       "    .dataframe tbody tr th:only-of-type {\n",
       "        vertical-align: middle;\n",
       "    }\n",
       "\n",
       "    .dataframe tbody tr th {\n",
       "        vertical-align: top;\n",
       "    }\n",
       "\n",
       "    .dataframe thead th {\n",
       "        text-align: right;\n",
       "    }\n",
       "</style>\n",
       "<table border=\"1\" class=\"dataframe\">\n",
       "  <thead>\n",
       "    <tr style=\"text-align: right;\">\n",
       "      <th></th>\n",
       "      <th>Unnamed: 0</th>\n",
       "      <th>date</th>\n",
       "      <th>time</th>\n",
       "      <th>comp</th>\n",
       "      <th>round</th>\n",
       "      <th>day</th>\n",
       "      <th>venue</th>\n",
       "      <th>result</th>\n",
       "      <th>gf</th>\n",
       "      <th>ga</th>\n",
       "      <th>...</th>\n",
       "      <th>fk</th>\n",
       "      <th>pk</th>\n",
       "      <th>pkatt</th>\n",
       "      <th>season</th>\n",
       "      <th>team</th>\n",
       "      <th>venue_code</th>\n",
       "      <th>opp_code</th>\n",
       "      <th>hour</th>\n",
       "      <th>day_code</th>\n",
       "      <th>target</th>\n",
       "    </tr>\n",
       "  </thead>\n",
       "  <tbody>\n",
       "    <tr>\n",
       "      <th>0</th>\n",
       "      <td>1</td>\n",
       "      <td>2021-08-15</td>\n",
       "      <td>16:30</td>\n",
       "      <td>Premier League</td>\n",
       "      <td>Matchweek 1</td>\n",
       "      <td>Sun</td>\n",
       "      <td>Away</td>\n",
       "      <td>L</td>\n",
       "      <td>0.0</td>\n",
       "      <td>1.0</td>\n",
       "      <td>...</td>\n",
       "      <td>1.0</td>\n",
       "      <td>0.0</td>\n",
       "      <td>0.0</td>\n",
       "      <td>2022</td>\n",
       "      <td>Manchester City</td>\n",
       "      <td>0</td>\n",
       "      <td>18</td>\n",
       "      <td>16</td>\n",
       "      <td>6</td>\n",
       "      <td>0</td>\n",
       "    </tr>\n",
       "    <tr>\n",
       "      <th>1</th>\n",
       "      <td>2</td>\n",
       "      <td>2021-08-21</td>\n",
       "      <td>15:00</td>\n",
       "      <td>Premier League</td>\n",
       "      <td>Matchweek 2</td>\n",
       "      <td>Sat</td>\n",
       "      <td>Home</td>\n",
       "      <td>W</td>\n",
       "      <td>5.0</td>\n",
       "      <td>0.0</td>\n",
       "      <td>...</td>\n",
       "      <td>1.0</td>\n",
       "      <td>0.0</td>\n",
       "      <td>0.0</td>\n",
       "      <td>2022</td>\n",
       "      <td>Manchester City</td>\n",
       "      <td>1</td>\n",
       "      <td>15</td>\n",
       "      <td>15</td>\n",
       "      <td>5</td>\n",
       "      <td>1</td>\n",
       "    </tr>\n",
       "    <tr>\n",
       "      <th>2</th>\n",
       "      <td>3</td>\n",
       "      <td>2021-08-28</td>\n",
       "      <td>12:30</td>\n",
       "      <td>Premier League</td>\n",
       "      <td>Matchweek 3</td>\n",
       "      <td>Sat</td>\n",
       "      <td>Home</td>\n",
       "      <td>W</td>\n",
       "      <td>5.0</td>\n",
       "      <td>0.0</td>\n",
       "      <td>...</td>\n",
       "      <td>0.0</td>\n",
       "      <td>0.0</td>\n",
       "      <td>0.0</td>\n",
       "      <td>2022</td>\n",
       "      <td>Manchester City</td>\n",
       "      <td>1</td>\n",
       "      <td>0</td>\n",
       "      <td>12</td>\n",
       "      <td>5</td>\n",
       "      <td>1</td>\n",
       "    </tr>\n",
       "    <tr>\n",
       "      <th>3</th>\n",
       "      <td>4</td>\n",
       "      <td>2021-09-11</td>\n",
       "      <td>15:00</td>\n",
       "      <td>Premier League</td>\n",
       "      <td>Matchweek 4</td>\n",
       "      <td>Sat</td>\n",
       "      <td>Away</td>\n",
       "      <td>W</td>\n",
       "      <td>1.0</td>\n",
       "      <td>0.0</td>\n",
       "      <td>...</td>\n",
       "      <td>0.0</td>\n",
       "      <td>0.0</td>\n",
       "      <td>0.0</td>\n",
       "      <td>2022</td>\n",
       "      <td>Manchester City</td>\n",
       "      <td>0</td>\n",
       "      <td>10</td>\n",
       "      <td>15</td>\n",
       "      <td>5</td>\n",
       "      <td>1</td>\n",
       "    </tr>\n",
       "    <tr>\n",
       "      <th>4</th>\n",
       "      <td>6</td>\n",
       "      <td>2021-09-18</td>\n",
       "      <td>15:00</td>\n",
       "      <td>Premier League</td>\n",
       "      <td>Matchweek 5</td>\n",
       "      <td>Sat</td>\n",
       "      <td>Home</td>\n",
       "      <td>D</td>\n",
       "      <td>0.0</td>\n",
       "      <td>0.0</td>\n",
       "      <td>...</td>\n",
       "      <td>1.0</td>\n",
       "      <td>0.0</td>\n",
       "      <td>0.0</td>\n",
       "      <td>2022</td>\n",
       "      <td>Manchester City</td>\n",
       "      <td>1</td>\n",
       "      <td>17</td>\n",
       "      <td>15</td>\n",
       "      <td>5</td>\n",
       "      <td>0</td>\n",
       "    </tr>\n",
       "    <tr>\n",
       "      <th>...</th>\n",
       "      <td>...</td>\n",
       "      <td>...</td>\n",
       "      <td>...</td>\n",
       "      <td>...</td>\n",
       "      <td>...</td>\n",
       "      <td>...</td>\n",
       "      <td>...</td>\n",
       "      <td>...</td>\n",
       "      <td>...</td>\n",
       "      <td>...</td>\n",
       "      <td>...</td>\n",
       "      <td>...</td>\n",
       "      <td>...</td>\n",
       "      <td>...</td>\n",
       "      <td>...</td>\n",
       "      <td>...</td>\n",
       "      <td>...</td>\n",
       "      <td>...</td>\n",
       "      <td>...</td>\n",
       "      <td>...</td>\n",
       "      <td>...</td>\n",
       "    </tr>\n",
       "    <tr>\n",
       "      <th>1384</th>\n",
       "      <td>38</td>\n",
       "      <td>2021-05-02</td>\n",
       "      <td>19:15</td>\n",
       "      <td>Premier League</td>\n",
       "      <td>Matchweek 34</td>\n",
       "      <td>Sun</td>\n",
       "      <td>Away</td>\n",
       "      <td>L</td>\n",
       "      <td>0.0</td>\n",
       "      <td>4.0</td>\n",
       "      <td>...</td>\n",
       "      <td>0.0</td>\n",
       "      <td>0.0</td>\n",
       "      <td>0.0</td>\n",
       "      <td>2021</td>\n",
       "      <td>Sheffield United</td>\n",
       "      <td>0</td>\n",
       "      <td>18</td>\n",
       "      <td>19</td>\n",
       "      <td>6</td>\n",
       "      <td>0</td>\n",
       "    </tr>\n",
       "    <tr>\n",
       "      <th>1385</th>\n",
       "      <td>39</td>\n",
       "      <td>2021-05-08</td>\n",
       "      <td>15:00</td>\n",
       "      <td>Premier League</td>\n",
       "      <td>Matchweek 35</td>\n",
       "      <td>Sat</td>\n",
       "      <td>Home</td>\n",
       "      <td>L</td>\n",
       "      <td>0.0</td>\n",
       "      <td>2.0</td>\n",
       "      <td>...</td>\n",
       "      <td>1.0</td>\n",
       "      <td>0.0</td>\n",
       "      <td>0.0</td>\n",
       "      <td>2021</td>\n",
       "      <td>Sheffield United</td>\n",
       "      <td>1</td>\n",
       "      <td>6</td>\n",
       "      <td>15</td>\n",
       "      <td>5</td>\n",
       "      <td>0</td>\n",
       "    </tr>\n",
       "    <tr>\n",
       "      <th>1386</th>\n",
       "      <td>40</td>\n",
       "      <td>2021-05-16</td>\n",
       "      <td>19:00</td>\n",
       "      <td>Premier League</td>\n",
       "      <td>Matchweek 36</td>\n",
       "      <td>Sun</td>\n",
       "      <td>Away</td>\n",
       "      <td>W</td>\n",
       "      <td>1.0</td>\n",
       "      <td>0.0</td>\n",
       "      <td>...</td>\n",
       "      <td>0.0</td>\n",
       "      <td>0.0</td>\n",
       "      <td>0.0</td>\n",
       "      <td>2021</td>\n",
       "      <td>Sheffield United</td>\n",
       "      <td>0</td>\n",
       "      <td>7</td>\n",
       "      <td>19</td>\n",
       "      <td>6</td>\n",
       "      <td>1</td>\n",
       "    </tr>\n",
       "    <tr>\n",
       "      <th>1387</th>\n",
       "      <td>41</td>\n",
       "      <td>2021-05-19</td>\n",
       "      <td>18:00</td>\n",
       "      <td>Premier League</td>\n",
       "      <td>Matchweek 37</td>\n",
       "      <td>Wed</td>\n",
       "      <td>Away</td>\n",
       "      <td>L</td>\n",
       "      <td>0.0</td>\n",
       "      <td>1.0</td>\n",
       "      <td>...</td>\n",
       "      <td>1.0</td>\n",
       "      <td>0.0</td>\n",
       "      <td>0.0</td>\n",
       "      <td>2021</td>\n",
       "      <td>Sheffield United</td>\n",
       "      <td>0</td>\n",
       "      <td>14</td>\n",
       "      <td>18</td>\n",
       "      <td>2</td>\n",
       "      <td>0</td>\n",
       "    </tr>\n",
       "    <tr>\n",
       "      <th>1388</th>\n",
       "      <td>42</td>\n",
       "      <td>2021-05-23</td>\n",
       "      <td>16:00</td>\n",
       "      <td>Premier League</td>\n",
       "      <td>Matchweek 38</td>\n",
       "      <td>Sun</td>\n",
       "      <td>Home</td>\n",
       "      <td>W</td>\n",
       "      <td>1.0</td>\n",
       "      <td>0.0</td>\n",
       "      <td>...</td>\n",
       "      <td>0.0</td>\n",
       "      <td>0.0</td>\n",
       "      <td>0.0</td>\n",
       "      <td>2021</td>\n",
       "      <td>Sheffield United</td>\n",
       "      <td>1</td>\n",
       "      <td>4</td>\n",
       "      <td>16</td>\n",
       "      <td>6</td>\n",
       "      <td>1</td>\n",
       "    </tr>\n",
       "  </tbody>\n",
       "</table>\n",
       "<p>1389 rows × 33 columns</p>\n",
       "</div>"
      ],
      "text/plain": [
       "      Unnamed: 0        date   time            comp         round  day venue  \\\n",
       "0              1  2021-08-15  16:30  Premier League   Matchweek 1  Sun  Away   \n",
       "1              2  2021-08-21  15:00  Premier League   Matchweek 2  Sat  Home   \n",
       "2              3  2021-08-28  12:30  Premier League   Matchweek 3  Sat  Home   \n",
       "3              4  2021-09-11  15:00  Premier League   Matchweek 4  Sat  Away   \n",
       "4              6  2021-09-18  15:00  Premier League   Matchweek 5  Sat  Home   \n",
       "...          ...         ...    ...             ...           ...  ...   ...   \n",
       "1384          38  2021-05-02  19:15  Premier League  Matchweek 34  Sun  Away   \n",
       "1385          39  2021-05-08  15:00  Premier League  Matchweek 35  Sat  Home   \n",
       "1386          40  2021-05-16  19:00  Premier League  Matchweek 36  Sun  Away   \n",
       "1387          41  2021-05-19  18:00  Premier League  Matchweek 37  Wed  Away   \n",
       "1388          42  2021-05-23  16:00  Premier League  Matchweek 38  Sun  Home   \n",
       "\n",
       "     result   gf   ga  ...   fk   pk  pkatt  season              team  \\\n",
       "0         L  0.0  1.0  ...  1.0  0.0    0.0    2022   Manchester City   \n",
       "1         W  5.0  0.0  ...  1.0  0.0    0.0    2022   Manchester City   \n",
       "2         W  5.0  0.0  ...  0.0  0.0    0.0    2022   Manchester City   \n",
       "3         W  1.0  0.0  ...  0.0  0.0    0.0    2022   Manchester City   \n",
       "4         D  0.0  0.0  ...  1.0  0.0    0.0    2022   Manchester City   \n",
       "...     ...  ...  ...  ...  ...  ...    ...     ...               ...   \n",
       "1384      L  0.0  4.0  ...  0.0  0.0    0.0    2021  Sheffield United   \n",
       "1385      L  0.0  2.0  ...  1.0  0.0    0.0    2021  Sheffield United   \n",
       "1386      W  1.0  0.0  ...  0.0  0.0    0.0    2021  Sheffield United   \n",
       "1387      L  0.0  1.0  ...  1.0  0.0    0.0    2021  Sheffield United   \n",
       "1388      W  1.0  0.0  ...  0.0  0.0    0.0    2021  Sheffield United   \n",
       "\n",
       "     venue_code opp_code hour day_code  target  \n",
       "0             0       18   16        6       0  \n",
       "1             1       15   15        5       1  \n",
       "2             1        0   12        5       1  \n",
       "3             0       10   15        5       1  \n",
       "4             1       17   15        5       0  \n",
       "...         ...      ...  ...      ...     ...  \n",
       "1384          0       18   19        6       0  \n",
       "1385          1        6   15        5       0  \n",
       "1386          0        7   19        6       1  \n",
       "1387          0       14   18        2       0  \n",
       "1388          1        4   16        6       1  \n",
       "\n",
       "[1389 rows x 33 columns]"
      ]
     },
     "metadata": {},
     "output_type": "display_data"
    }
   ],
   "source": [
    "display(df)"
   ]
  },
  {
   "cell_type": "code",
   "execution_count": 5,
   "id": "8872399f",
   "metadata": {},
   "outputs": [],
   "source": [
    "df.gf = df.gf.astype(int) "
   ]
  },
  {
   "cell_type": "markdown",
   "id": "712086ed",
   "metadata": {},
   "source": [
    "## Step 2 - Build the model "
   ]
  },
  {
   "cell_type": "code",
   "execution_count": 6,
   "id": "2e44297b",
   "metadata": {},
   "outputs": [],
   "source": [
    "logreg = LogisticRegression()\n",
    "X = df[['gf']] \n",
    "y = df['target']"
   ]
  },
  {
   "cell_type": "code",
   "execution_count": 7,
   "id": "411ded97",
   "metadata": {},
   "outputs": [
    {
     "data": {
      "text/plain": [
       "LogisticRegression()"
      ]
     },
     "execution_count": 7,
     "metadata": {},
     "output_type": "execute_result"
    }
   ],
   "source": [
    "logreg.fit(X,y)"
   ]
  },
  {
   "cell_type": "markdown",
   "id": "ee4f9f02",
   "metadata": {},
   "source": [
    "## Step 3 - Interpret the model "
   ]
  },
  {
   "cell_type": "code",
   "execution_count": 9,
   "id": "990da061",
   "metadata": {},
   "outputs": [
    {
     "name": "stdout",
     "output_type": "stream",
     "text": [
      "-3.0736441368858722\n",
      "[1.8345234]\n"
     ]
    }
   ],
   "source": [
    "\n",
    "\n",
    "intercept = logreg.intercept_[0]\n",
    "print(intercept) \n",
    "gradient = logreg.coef_[0]\n",
    "print(gradient) "
   ]
  },
  {
   "cell_type": "code",
   "execution_count": 11,
   "id": "45c6ebec",
   "metadata": {},
   "outputs": [
    {
     "name": "stdout",
     "output_type": "stream",
     "text": [
      "[1.67544559]\n"
     ]
    }
   ],
   "source": [
    "tipping_point = -intercept/gradient\n",
    "print(tipping_point)\n",
    "\n",
    "#a team needs to score 1.67 goals to make chances of winning game greater than not winning"
   ]
  },
  {
   "cell_type": "markdown",
   "id": "f44c7ade",
   "metadata": {},
   "source": [
    "## Step 4 - plot logistic regression"
   ]
  },
  {
   "cell_type": "code",
   "execution_count": 29,
   "id": "27e7f1b8",
   "metadata": {},
   "outputs": [
    {
     "name": "stderr",
     "output_type": "stream",
     "text": [
      "C:\\Users\\Chris Butler\\anaconda3\\lib\\site-packages\\sklearn\\base.py:450: UserWarning: X does not have valid feature names, but LogisticRegression was fitted with feature names\n",
      "  warnings.warn(\n"
     ]
    },
    {
     "data": {
      "image/png": "[encoded data removed]",
      "text/plain": [
       "<Figure size 576x576 with 1 Axes>"
      ]
     },
     "metadata": {
      "needs_background": "light"
     },
     "output_type": "display_data"
    }
   ],
   "source": [
    "\n",
    "z = np.arange(min(df.gf), max(df.gf), 0.05) \n",
    "\n",
    "# Run each value from z through function to find probability of assigning label 0 (target not met) and 1 (target met)\n",
    "probs = logreg.predict_proba(pd.DataFrame(z))\n",
    "\n",
    "# Extract the probabilities for assigning label 1\n",
    "phi_z = probs[:, 1]\n",
    "\n",
    "# Plot\n",
    "fig, ax = plt.subplots(figsize=(8, 8))\n",
    "ax.plot(z, phi_z, '.', color = \"#2ab7ca\") \n",
    "ax.plot(df.gf, df.target, '.', color = \"#fe4a49\", markersize = 7) \n",
    "ax.vlines(tipping_point, ymin=0, ymax=1, color='white')\n",
    "ax.hlines(0.5, xmin=min(df.gf), xmax=max(df.gf), color='white', linestyles= 'dashed')\n",
    "ax.set_xticks(np.arange(0, 10, 1)) \n",
    "plt.xlabel('\\nGoals Scored', fontsize = 13)\n",
    "plt.ylabel('Probability of Winning the Game\\n', fontsize = 13)\n",
    "ax.set_facecolor('grey')\n",
    "plt.show()"
   ]
  },
  {
   "cell_type": "markdown",
   "id": "38e8d143",
   "metadata": {},
   "source": [
    "## Step 5 - Validate model"
   ]
  },
  {
   "cell_type": "code",
   "execution_count": 47,
   "id": "12d2d44e",
   "metadata": {},
   "outputs": [
    {
     "data": {
      "text/plain": [
       "0.8214542836573074"
      ]
     },
     "execution_count": 47,
     "metadata": {},
     "output_type": "execute_result"
    }
   ],
   "source": [
    "logreg.score(X, y) #model is correct 82% of the time. This is pretty good! It means using goals scored and our model, we can now predict the outcome of a football match correctly 82% of the time"
   ]
  },
  {
   "cell_type": "code",
   "execution_count": 48,
   "id": "e027f286",
   "metadata": {},
   "outputs": [
    {
     "data": {
      "text/plain": [
       "0.6213102951763859"
      ]
     },
     "execution_count": 48,
     "metadata": {},
     "output_type": "execute_result"
    }
   ],
   "source": [
    "#its a good idea to benchmark how good our model accuracy is, by stating what would be the outcome of just 'guessing' the outcome of a match with no predictor variables\n",
    "\n",
    "df.target.value_counts(normalize=True).max() #if we were to just guess - best outcome would be 62%, so out model is a substantial improvement on this"
   ]
  },
  {
   "cell_type": "code",
   "execution_count": 53,
   "id": "bacf05c2",
   "metadata": {},
   "outputs": [
    {
     "name": "stdout",
     "output_type": "stream",
     "text": [
      "Optimization terminated successfully.\n",
      "         Current function value: 0.393305\n",
      "         Iterations 7\n",
      "                           Logit Regression Results                           \n",
      "==============================================================================\n",
      "Dep. Variable:                 target   No. Observations:                 1389\n",
      "Model:                          Logit   Df Residuals:                     1387\n",
      "Method:                           MLE   Df Model:                            1\n",
      "Date:                Fri, 01 Sep 2023   Pseudo R-squ.:                  0.4072\n",
      "Time:                        13:52:34   Log-Likelihood:                -546.30\n",
      "converged:                       True   LL-Null:                       -921.49\n",
      "Covariance Type:            nonrobust   LLR p-value:                3.324e-165\n",
      "==============================================================================\n",
      "                 coef    std err          z      P>|z|      [0.025      0.975]\n",
      "------------------------------------------------------------------------------\n",
      "const         -3.0986      0.159    -19.499      0.000      -3.410      -2.787\n",
      "gf             1.8521      0.098     18.850      0.000       1.660       2.045\n",
      "==============================================================================\n"
     ]
    }
   ],
   "source": [
    "import statsmodels.api as sm\n",
    "\n",
    "# Add a constant term to the predictor variables (intercept)\n",
    "X = sm.add_constant(X)\n",
    "\n",
    "# Create and fit a logistic regression model\n",
    "model = sm.Logit(y, X)\n",
    "result = model.fit()\n",
    "\n",
    "# Print the summary which includes p-values\n",
    "print(result.summary())"
   ]
  }
 ],
 "metadata": {
  "kernelspec": {
   "display_name": "Python 3 (ipykernel)",
   "language": "python",
   "name": "python3"
  },
  "language_info": {
   "codemirror_mode": {
    "name": "ipython",
    "version": 3
   },
   "file_extension": ".py",
   "mimetype": "text/x-python",
   "name": "python",
   "nbconvert_exporter": "python",
   "pygments_lexer": "ipython3",
   "version": "3.9.12"
  }
 },
 "nbformat": 4,
 "nbformat_minor": 5
}
